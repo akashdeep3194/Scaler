{
 "cells": [
  {
   "cell_type": "markdown",
   "id": "herbal-jonathan",
   "metadata": {},
   "source": [
    "Recursion->\n",
    "how to identify"
   ]
  },
  {
   "cell_type": "markdown",
   "id": "diverse-welcome",
   "metadata": {},
   "source": [
    "recursion - > call the same fn with a smaller input"
   ]
  },
  {
   "cell_type": "markdown",
   "id": "representative-technique",
   "metadata": {},
   "source": [
    "function(input)"
   ]
  },
  {
   "cell_type": "markdown",
   "id": "radical-disease",
   "metadata": {},
   "source": [
    "array"
   ]
  },
  {
   "cell_type": "code",
   "execution_count": null,
   "id": "modular-offer",
   "metadata": {},
   "outputs": [],
   "source": [
    "smaller piece of input"
   ]
  }
 ],
 "metadata": {
  "kernelspec": {
   "display_name": "Python 3",
   "language": "python",
   "name": "python3"
  },
  "language_info": {
   "codemirror_mode": {
    "name": "ipython",
    "version": 3
   },
   "file_extension": ".py",
   "mimetype": "text/x-python",
   "name": "python",
   "nbconvert_exporter": "python",
   "pygments_lexer": "ipython3",
   "version": "3.9.7"
  }
 },
 "nbformat": 4,
 "nbformat_minor": 5
}
