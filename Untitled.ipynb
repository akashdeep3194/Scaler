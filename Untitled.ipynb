{
 "cells": [
  {
   "cell_type": "code",
   "execution_count": 58,
   "id": "verbal-phoenix",
   "metadata": {},
   "outputs": [
    {
     "name": "stdout",
     "output_type": "stream",
     "text": [
      "[1, 1, 2, 2] [1, 3, 4, 5, 12, 15, 20, 60] 18\n"
     ]
    }
   ],
   "source": [
    "arr = [1,2,3,5,4]\n",
    "mid = len(arr)//2\n",
    "arr1 = arr[:mid]\n",
    "arr2 = arr[mid:]\n",
    "n1 = len(arr1)\n",
    "n2 = len(arr2)\n",
    "\n",
    "def gensubsets(arr,n):\n",
    "    ans = []\n",
    "    for i in range(0,2**n):\n",
    "        prod = 1\n",
    "        subset = []\n",
    "        for j in range(n):\n",
    "            if (i&2**j)==2**j:\n",
    "                subset.append(arr[j])\n",
    "                prod = prod*arr[j]\n",
    "        ans.append(prod)\n",
    "    return ans\n",
    "\n",
    "subset1 = gensubsets(arr1,n1)\n",
    "subset2 = gensubsets(arr2,n2)\n",
    "subset2.sort()\n",
    "k = 12\n",
    "ctr = 0\n",
    "for ele in subset1:\n",
    "    el = k/ele\n",
    "    ctr += bisect.bisect_right(subset2,el)\n",
    "print(subset1,subset2,ctr)\n"
   ]
  },
  {
   "cell_type": "code",
   "execution_count": 71,
   "id": "bizarre-carol",
   "metadata": {},
   "outputs": [
    {
     "name": "stdout",
     "output_type": "stream",
     "text": [
      "[1, 1, 2, 2] [1, 3, 4, 5, 12, 15, 20, 60] 18\n",
      "1 1 2 2 3 3 6 6 5 5 10 10 4 4 8 8 12 12 18\n"
     ]
    }
   ],
   "source": [
    "arr = [1,2,3,5,4]\n",
    "mid = len(arr)//2\n",
    "arr1 = arr[:mid]\n",
    "arr2 = arr[mid:]\n",
    "n1 = len(arr1)\n",
    "n2 = len(arr2)\n",
    "\n",
    "def gensubsets(arr,n):\n",
    "    ans = []\n",
    "    for i in range(0,2**n):\n",
    "        prod = 1\n",
    "        subset = []\n",
    "        for j in range(n):\n",
    "            if (i&2**j)==2**j:\n",
    "                subset.append(arr[j])\n",
    "                prod = prod*arr[j]\n",
    "        ans.append(prod)\n",
    "    return ans\n",
    "\n",
    "subset1 = gensubsets(arr1,n1)\n",
    "subset2 = gensubsets(arr2,n2)\n",
    "prod_arr = gensubsets(arr,n)\n",
    "subset2.sort()\n",
    "k = 12\n",
    "ctr = 0\n",
    "for ele in subset1:\n",
    "    el = k/ele\n",
    "    ctr += bisect.bisect_right(subset2,el)\n",
    "print(subset1,subset2,ctr)\n",
    "\n",
    "c = 0\n",
    "\n",
    "for ele in prod_arr:\n",
    "    if ele <= 12:\n",
    "        print(ele,end=\" \")\n",
    "        c += 1\n",
    "print(c)"
   ]
  }
 ],
 "metadata": {
  "kernelspec": {
   "display_name": "Python 3",
   "language": "python",
   "name": "python3"
  },
  "language_info": {
   "codemirror_mode": {
    "name": "ipython",
    "version": 3
   },
   "file_extension": ".py",
   "mimetype": "text/x-python",
   "name": "python",
   "nbconvert_exporter": "python",
   "pygments_lexer": "ipython3",
   "version": "3.9.7"
  }
 },
 "nbformat": 4,
 "nbformat_minor": 5
}
