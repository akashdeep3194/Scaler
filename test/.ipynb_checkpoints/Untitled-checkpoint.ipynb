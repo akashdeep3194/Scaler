{
 "cells": [
  {
   "cell_type": "markdown",
   "id": "sweet-cylinder",
   "metadata": {},
   "source": [
    "# Recursion"
   ]
  },
  {
   "cell_type": "markdown",
   "id": "laughing-visibility",
   "metadata": {},
   "source": [
    "* Template code for Recursion"
   ]
  },
  {
   "cell_type": "markdown",
   "id": "inappropriate-elevation",
   "metadata": {},
   "source": [
    "def rec_fun(inp):\n",
    "    if (smallest input is received):\n",
    "        return known_answer\n",
    "    \n",
    "    \n",
    "    # small_input = break the input inp and choose one part as small input\n",
    "    # remaining_input = inp - small_input\n",
    "    \n",
    "    # small_answer = rec_fun(small_input)\n",
    "    \n",
    "    \n",
    "    # use remaining_input and small_answer to calculate final_answer and return it"
   ]
  },
  {
   "cell_type": "markdown",
   "id": "after-kuwait",
   "metadata": {},
   "source": [
    "---"
   ]
  },
  {
   "cell_type": "markdown",
   "id": "limited-korean",
   "metadata": {},
   "source": [
    "* Sum of all elements of an array"
   ]
  },
  {
   "cell_type": "code",
   "execution_count": 7,
   "id": "tribal-flash",
   "metadata": {},
   "outputs": [],
   "source": [
    "arr = [1,2,3,4,5]\n",
    "# small_input = [12,21,2,21,3,1,321,321,123]]\n",
    "\n",
    "def rec_fun(arr):\n",
    "    if (len(arr) == 0):\n",
    "        return 0\n",
    "\n",
    "    small_input = arr[1:]\n",
    "    remaining_input = arr[0]\n",
    "    \n",
    "    small_answer = rec_fun(small_input)\n",
    "    \n",
    "    final_answer = small_answer + remaining_input\n",
    "    \n",
    "    return final_answer\n",
    "    \n",
    "    # small_input = break the input inp and choose one part as small input\n",
    "    # remaining_input = inp - small_input\n",
    "    \n",
    "    # small_answer = rec_fun(small_input)\n",
    "    \n",
    "    \n",
    "    # use remaining_input and small_answer to calculate final_answer and return it"
   ]
  },
  {
   "cell_type": "code",
   "execution_count": 9,
   "id": "copyrighted-lafayette",
   "metadata": {},
   "outputs": [
    {
     "data": {
      "text/plain": [
       "15"
      ]
     },
     "execution_count": 9,
     "metadata": {},
     "output_type": "execute_result"
    }
   ],
   "source": [
    "rec_fun(arr)"
   ]
  },
  {
   "cell_type": "markdown",
   "id": "useful-detector",
   "metadata": {},
   "source": [
    "* Find min of array"
   ]
  },
  {
   "cell_type": "code",
   "execution_count": 18,
   "id": "statewide-interpretation",
   "metadata": {},
   "outputs": [],
   "source": [
    "arr = [4,23,3,32,13,3,3,21]\n",
    "import sys\n",
    "\n",
    "def rec_min(arr):\n",
    "    \n",
    "    if len(arr) == 0:\n",
    "        return sys.maxsize\n",
    "    \n",
    "    small_input = arr[1:]\n",
    "    remaining_element = arr[0]\n",
    "\n",
    "    small_answer = rec_min(small_input)\n",
    "    \n",
    "    if small_answer<remaining_element:\n",
    "        return small_answer\n",
    "    else:\n",
    "        return remaining_element    "
   ]
  },
  {
   "cell_type": "code",
   "execution_count": 20,
   "id": "pretty-leather",
   "metadata": {},
   "outputs": [
    {
     "data": {
      "text/plain": [
       "3"
      ]
     },
     "execution_count": 20,
     "metadata": {},
     "output_type": "execute_result"
    }
   ],
   "source": [
    "rec_min(arr)"
   ]
  },
  {
   "cell_type": "markdown",
   "id": "herbal-baker",
   "metadata": {},
   "source": [
    "* Find min of array"
   ]
  },
  {
   "cell_type": "code",
   "execution_count": 45,
   "id": "short-assault",
   "metadata": {},
   "outputs": [],
   "source": [
    "s = \"madams\"\n",
    "ss = \"namn\"\n",
    "\n",
    "\n",
    "def rec_pall(s):\n",
    "    if len(s) <= 1:\n",
    "        return True\n",
    "    n = len(s)\n",
    "    \n",
    "    if s[0] == s[n-1]:\n",
    "\n",
    "        small_input = s[1:n-1]\n",
    "        small_answer = rec_pall(small_input)\n",
    "\n",
    "        if small_answer is True:\n",
    "            return True\n",
    "    else:\n",
    "        return False"
   ]
  },
  {
   "cell_type": "code",
   "execution_count": 44,
   "id": "intimate-richmond",
   "metadata": {},
   "outputs": [
    {
     "name": "stdout",
     "output_type": "stream",
     "text": [
      "False True\n"
     ]
    }
   ],
   "source": [
    "print(rec_pall(s),rec_pall(ss))"
   ]
  }
 ],
 "metadata": {
  "kernelspec": {
   "display_name": "Python 3",
   "language": "python",
   "name": "python3"
  },
  "language_info": {
   "codemirror_mode": {
    "name": "ipython",
    "version": 3
   },
   "file_extension": ".py",
   "mimetype": "text/x-python",
   "name": "python",
   "nbconvert_exporter": "python",
   "pygments_lexer": "ipython3",
   "version": "3.9.7"
  }
 },
 "nbformat": 4,
 "nbformat_minor": 5
}
