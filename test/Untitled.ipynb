{
 "cells": [
  {
   "cell_type": "markdown",
   "id": "premier-elite",
   "metadata": {},
   "source": [
    "# Recursion\n",
    "\n",
    "* How to identify if recursion is applicable here or not?\n",
    "\n",
    "* Template code to write a recursive function\n",
    "\n",
    "* Write some recursive programs using the template"
   ]
  },
  {
   "cell_type": "markdown",
   "id": "suitable-bronze",
   "metadata": {},
   "source": [
    "* Template code for Recursion"
   ]
  },
  {
   "cell_type": "markdown",
   "id": "encouraging-label",
   "metadata": {},
   "source": [
    "def rec_fun(inp):\n",
    "    if (smallest input is received):\n",
    "        return known_answer\n",
    "    \n",
    "    \n",
    "    # small_input = break the input inp and choose one part as small input\n",
    "    # remaining_input = inp - small_input\n",
    "    \n",
    "    # small_answer = rec_fun(small_input)\n",
    "    \n",
    "    \n",
    "    # use remaining_input and small_answer to calculate final_answer and return it"
   ]
  },
  {
   "cell_type": "markdown",
   "id": "understood-poetry",
   "metadata": {},
   "source": [
    "---"
   ]
  },
  {
   "cell_type": "markdown",
   "id": "adverse-bouquet",
   "metadata": {},
   "source": [
    "* Sum of all elements of an array"
   ]
  },
  {
   "cell_type": "code",
   "execution_count": 7,
   "id": "exceptional-terrain",
   "metadata": {},
   "outputs": [],
   "source": [
    "arr = [1,2,3,4,5]\n",
    "# small_input = [12,21,2,21,3,1,321,321,123]]\n",
    "\n",
    "def rec_fun(arr):\n",
    "    if (len(arr) == 0):\n",
    "        return 0\n",
    "\n",
    "    small_input = arr[1:]\n",
    "    remaining_input = arr[0]\n",
    "    \n",
    "    small_answer = rec_fun(small_input)\n",
    "    \n",
    "    final_answer = small_answer + remaining_input\n",
    "    \n",
    "    return final_answer\n",
    "    \n",
    "    # small_input = break the input inp and choose one part as small input\n",
    "    # remaining_input = inp - small_input\n",
    "    \n",
    "    # small_answer = rec_fun(small_input)\n",
    "    \n",
    "    \n",
    "    # use remaining_input and small_answer to calculate final_answer and return it"
   ]
  },
  {
   "cell_type": "code",
   "execution_count": 9,
   "id": "facial-exercise",
   "metadata": {},
   "outputs": [
    {
     "data": {
      "text/plain": [
       "15"
      ]
     },
     "execution_count": 9,
     "metadata": {},
     "output_type": "execute_result"
    }
   ],
   "source": [
    "rec_fun(arr)"
   ]
  },
  {
   "cell_type": "markdown",
   "id": "paperback-convention",
   "metadata": {},
   "source": [
    "* Find min of array"
   ]
  },
  {
   "cell_type": "code",
   "execution_count": 18,
   "id": "incorrect-cosmetic",
   "metadata": {},
   "outputs": [],
   "source": [
    "arr = [4,23,3,32,13,3,3,21]\n",
    "import sys\n",
    "\n",
    "def rec_min(arr):\n",
    "    \n",
    "    if len(arr) == 0:\n",
    "        return sys.maxsize\n",
    "    \n",
    "    small_input = arr[1:]\n",
    "    remaining_element = arr[0]\n",
    "\n",
    "    small_answer = rec_min(small_input)\n",
    "    \n",
    "    if small_answer<remaining_element:\n",
    "        return small_answer\n",
    "    else:\n",
    "        return remaining_element    "
   ]
  },
  {
   "cell_type": "code",
   "execution_count": 20,
   "id": "devoted-vegetable",
   "metadata": {},
   "outputs": [
    {
     "data": {
      "text/plain": [
       "3"
      ]
     },
     "execution_count": 20,
     "metadata": {},
     "output_type": "execute_result"
    }
   ],
   "source": [
    "rec_min(arr)"
   ]
  },
  {
   "cell_type": "markdown",
   "id": "double-giant",
   "metadata": {},
   "source": [
    "* Check pall"
   ]
  },
  {
   "cell_type": "code",
   "execution_count": 52,
   "id": "aerial-compression",
   "metadata": {},
   "outputs": [],
   "source": [
    "s = \"madam\"\n",
    "ss = \"naman\"\n",
    "\n",
    "\n",
    "def rec_pall(s):\n",
    "    if len(s) <= 1:\n",
    "        return True\n",
    "    n = len(s)\n",
    "    \n",
    "    if s[0] == s[n-1]:\n",
    "\n",
    "        small_input = s[1:n-1]\n",
    "        small_answer = rec_pall(small_input)\n",
    "\n",
    "        if small_answer is True:\n",
    "            return True\n",
    "        else:\n",
    "            return False\n",
    "    else:\n",
    "        return False"
   ]
  },
  {
   "cell_type": "code",
   "execution_count": 54,
   "id": "supposed-breath",
   "metadata": {},
   "outputs": [
    {
     "name": "stdout",
     "output_type": "stream",
     "text": [
      "True True\n"
     ]
    }
   ],
   "source": [
    "print(rec_pall(s),rec_pall(ss))"
   ]
  },
  {
   "cell_type": "markdown",
   "id": "consecutive-pepper",
   "metadata": {},
   "source": [
    "* Find min of array"
   ]
  },
  {
   "cell_type": "code",
   "execution_count": 105,
   "id": "married-bathroom",
   "metadata": {},
   "outputs": [],
   "source": [
    "# arr1 = [1,3,5,7,9]\n",
    "# arr2 = [4,6]\n",
    "\n",
    "# arr = [1,3,4,5,6,8]\n",
    "\n",
    "def merge(arr1,arr2):\n",
    "    arr = []\n",
    "    i = j = k = 0\n",
    "\n",
    "    while i<len(arr1) and j<len(arr2):\n",
    "        if arr1[i]<arr2[j]:\n",
    "            arr.append(arr1[i])\n",
    "            i+=1\n",
    "        else:\n",
    "            arr.append(arr2[j])\n",
    "            j+=1\n",
    "\n",
    "    if i >= len(arr1):\n",
    "        arr.extend(arr2[j:])\n",
    "    else:\n",
    "        arr.extend(arr1[i:])\n",
    "    \n",
    "    return arr\n",
    "\n",
    "def mergeSort(arr):\n",
    "    \n",
    "    if len(arr) <= 1:\n",
    "        return\n",
    "\n",
    "    mid = len(arr)//2\n",
    "\n",
    "    arr1 = arr[:mid]\n",
    "    arr2 = arr[mid:]\n",
    "    \n",
    "    mergeSort(arr1)\n",
    "    mergeSort(arr2)    \n",
    "    \n",
    "    \n",
    "    out_arr = merge(arr1,arr2)\n",
    "\n",
    "    for i in range(len(out_arr)):\n",
    "        arr[i] = out_arr[i]\n",
    "    \n",
    "    return"
   ]
  },
  {
   "cell_type": "code",
   "execution_count": 127,
   "id": "extraordinary-faith",
   "metadata": {},
   "outputs": [
    {
     "name": "stdout",
     "output_type": "stream",
     "text": [
      "[5, 4, 1, 2, 3, 6, 9, 7, 8]\n"
     ]
    }
   ],
   "source": [
    "arr = [5,4,1,2,3,6,9,7,8]\n",
    "print(arr)"
   ]
  },
  {
   "cell_type": "code",
   "execution_count": 126,
   "id": "brown-imperial",
   "metadata": {},
   "outputs": [
    {
     "name": "stdout",
     "output_type": "stream",
     "text": [
      "[1, 2, 3, 4, 5, 6, 7, 8, 9]\n"
     ]
    }
   ],
   "source": [
    "mergeSort(arr)\n",
    "print(arr)"
   ]
  }
 ],
 "metadata": {
  "kernelspec": {
   "display_name": "Python 3",
   "language": "python",
   "name": "python3"
  },
  "language_info": {
   "codemirror_mode": {
    "name": "ipython",
    "version": 3
   },
   "file_extension": ".py",
   "mimetype": "text/x-python",
   "name": "python",
   "nbconvert_exporter": "python",
   "pygments_lexer": "ipython3",
   "version": "3.9.7"
  }
 },
 "nbformat": 4,
 "nbformat_minor": 5
}
